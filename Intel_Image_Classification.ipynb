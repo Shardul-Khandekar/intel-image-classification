{
  "cells": [
    {
      "cell_type": "code",
      "execution_count": null,
      "metadata": {
        "id": "U92KYAwJ2HfF"
      },
      "outputs": [],
      "source": [
        "!pip install fastai"
      ]
    },
    {
      "cell_type": "code",
      "execution_count": 1,
      "metadata": {
        "_cell_guid": "b1076dfc-b9ad-4769-8c92-a6c4dae69d19",
        "_uuid": "8f2839f25d086af736a60e9eeb907d3b93b6e0e5",
        "execution": {
          "iopub.execute_input": "2022-03-26T10:58:32.570893Z",
          "iopub.status.busy": "2022-03-26T10:58:32.570568Z",
          "iopub.status.idle": "2022-03-26T10:58:35.001691Z",
          "shell.execute_reply": "2022-03-26T10:58:35.000935Z",
          "shell.execute_reply.started": "2022-03-26T10:58:32.570857Z"
        },
        "id": "78hVlitz2HfG"
      },
      "outputs": [],
      "source": [
        "from fastai import *\n",
        "from fastai.vision import *\n",
        "from fastai.metrics import error_rate\n",
        "import os\n",
        "import pandas as pd\n",
        "import numpy as np\n",
        "import matplotlib.pyplot as plt\n",
        "import seaborn as sns\n",
        "import cv2"
      ]
    },
    {
      "cell_type": "code",
      "execution_count": null,
      "metadata": {
        "execution": {
          "iopub.execute_input": "2022-03-26T10:58:35.006116Z",
          "iopub.status.busy": "2022-03-26T10:58:35.005857Z",
          "iopub.status.idle": "2022-03-26T10:58:35.021337Z",
          "shell.execute_reply": "2022-03-26T10:58:35.020701Z",
          "shell.execute_reply.started": "2022-03-26T10:58:35.006091Z"
        },
        "id": "MiKMaFQY2HfG"
      },
      "outputs": [],
      "source": [
        "x  = '/content/drive/data/seg_train/seg_train'\n",
        "path = Path(x)\n",
        "path.ls()"
      ]
    },
    {
      "cell_type": "code",
      "execution_count": null,
      "metadata": {
        "execution": {
          "iopub.execute_input": "2022-03-26T10:58:35.022696Z",
          "iopub.status.busy": "2022-03-26T10:58:35.022369Z",
          "iopub.status.idle": "2022-03-26T10:58:42.216991Z",
          "shell.execute_reply": "2022-03-26T10:58:42.216204Z",
          "shell.execute_reply.started": "2022-03-26T10:58:35.022669Z"
        },
        "id": "noSoIdtS2HfH"
      },
      "outputs": [],
      "source": [
        "np.random.seed(40)\n",
        "data = ImageDataBunch.from_folder(path, train = '.', valid_pct=0.2, ds_tfms=get_transforms(), size=224, num_workers=4).normalize(imagenet_stats)"
      ]
    },
    {
      "cell_type": "code",
      "execution_count": null,
      "metadata": {
        "execution": {
          "iopub.execute_input": "2022-03-26T10:58:42.218817Z",
          "iopub.status.busy": "2022-03-26T10:58:42.218464Z",
          "iopub.status.idle": "2022-03-26T10:58:48.709704Z",
          "shell.execute_reply": "2022-03-26T10:58:48.708818Z",
          "shell.execute_reply.started": "2022-03-26T10:58:42.218767Z"
        },
        "id": "g5o-1rww2HfH"
      },
      "outputs": [],
      "source": [
        "data.show_batch(rows=3, figsize=(7,6),recompute_scale_factor=True)"
      ]
    },
    {
      "cell_type": "code",
      "execution_count": null,
      "metadata": {
        "execution": {
          "iopub.execute_input": "2022-03-26T10:58:48.713116Z",
          "iopub.status.busy": "2022-03-26T10:58:48.712466Z",
          "iopub.status.idle": "2022-03-26T10:58:48.825929Z",
          "shell.execute_reply": "2022-03-26T10:58:48.824933Z",
          "shell.execute_reply.started": "2022-03-26T10:58:48.713079Z"
        },
        "id": "sI3_pQdc2HfH"
      },
      "outputs": [],
      "source": [
        "data"
      ]
    },
    {
      "cell_type": "code",
      "execution_count": null,
      "metadata": {
        "execution": {
          "iopub.execute_input": "2022-03-26T10:58:48.827995Z",
          "iopub.status.busy": "2022-03-26T10:58:48.827554Z",
          "iopub.status.idle": "2022-03-26T10:58:48.835583Z",
          "shell.execute_reply": "2022-03-26T10:58:48.834471Z",
          "shell.execute_reply.started": "2022-03-26T10:58:48.827955Z"
        },
        "id": "zqaW2GFK2HfH"
      },
      "outputs": [],
      "source": [
        "print(data.classes)\n",
        "len(data.classes)\n",
        "data.c"
      ]
    },
    {
      "cell_type": "code",
      "execution_count": null,
      "metadata": {
        "execution": {
          "iopub.execute_input": "2022-03-26T10:58:48.838853Z",
          "iopub.status.busy": "2022-03-26T10:58:48.837725Z",
          "iopub.status.idle": "2022-03-26T10:58:53.639567Z",
          "shell.execute_reply": "2022-03-26T10:58:53.638789Z",
          "shell.execute_reply.started": "2022-03-26T10:58:48.838778Z"
        },
        "id": "9UUT-jNR2HfH"
      },
      "outputs": [],
      "source": [
        "learn = cnn_learner(data, models.resnet18, metrics=[accuracy], model_dir = Path('../kaggle/working'),path = Path(\".\"))"
      ]
    },
    {
      "cell_type": "code",
      "execution_count": null,
      "metadata": {
        "execution": {
          "iopub.execute_input": "2022-03-26T10:58:53.64156Z",
          "iopub.status.busy": "2022-03-26T10:58:53.641157Z",
          "iopub.status.idle": "2022-03-26T10:59:40.430831Z",
          "shell.execute_reply": "2022-03-26T10:59:40.42983Z",
          "shell.execute_reply.started": "2022-03-26T10:58:53.641518Z"
        },
        "id": "lEDomtmX2HfI"
      },
      "outputs": [],
      "source": [
        "learn.lr_find()\n",
        "learn.recorder.plot(suggestions=True)"
      ]
    },
    {
      "cell_type": "code",
      "execution_count": null,
      "metadata": {
        "execution": {
          "iopub.execute_input": "2022-03-26T10:59:40.432846Z",
          "iopub.status.busy": "2022-03-26T10:59:40.432436Z"
        },
        "id": "oMxX2PDM2HfI"
      },
      "outputs": [],
      "source": [
        "lr1 = 1e-3\n",
        "lr2 = 1e-1\n",
        "learn.fit_one_cycle(40,slice(lr1,lr2))"
      ]
    },
    {
      "cell_type": "code",
      "execution_count": null,
      "metadata": {
        "id": "sQ1RY6b-2HfI"
      },
      "outputs": [],
      "source": [
        "learn.unfreeze()\n",
        "learn.fit_one_cycle(20,slice(1e-4,1e-3))"
      ]
    },
    {
      "cell_type": "code",
      "execution_count": null,
      "metadata": {
        "id": "0eWJDiVY2HfI"
      },
      "outputs": [],
      "source": [
        "learn.recorder.plot_losses()"
      ]
    },
    {
      "cell_type": "code",
      "execution_count": null,
      "metadata": {
        "id": "vucdKRvn2HfJ"
      },
      "outputs": [],
      "source": [
        "interp = ClassificationInterpretation.from_learner(learn)\n",
        "interp.plot_confusion_matrix()"
      ]
    },
    {
      "cell_type": "code",
      "execution_count": null,
      "metadata": {
        "id": "v96qVTG52HfJ"
      },
      "outputs": [],
      "source": [
        "interp.plot_top_losses(6,figsize = (25,5))"
      ]
    },
    {
      "cell_type": "code",
      "execution_count": null,
      "metadata": {
        "id": "5Q2A-hHo2HfJ"
      },
      "outputs": [],
      "source": [
        "img = open_image('/content/drive/data/seg_test/seg_test/glacier/21982.jpg')\n",
        "print(learn.predict(img)[0])"
      ]
    },
    {
      "cell_type": "code",
      "execution_count": null,
      "metadata": {
        "id": "VQWYOeV82HfJ"
      },
      "outputs": [],
      "source": [
        "img = open_image('/content/drive/data/seg_test/seg_test/glacier/21982.jpg')\n",
        "print(learn.predict(img)[0])"
      ]
    },
    {
      "cell_type": "code",
      "execution_count": null,
      "metadata": {
        "id": "IqbzcNeN2HfJ"
      },
      "outputs": [],
      "source": [
        "learn.export(file = Path(\"/kaggle/working/export.pkl\"))\n",
        "learn.model_dir = \"/kaggle/working\"\n",
        "learn.save(\"stage-1\",return_path=True)"
      ]
    }
  ],
  "metadata": {
    "kaggle": {
      "accelerator": "gpu",
      "dataSources": [
        {
          "datasetId": 111880,
          "sourceId": 269359,
          "sourceType": "datasetVersion"
        }
      ],
      "dockerImageVersionId": 29974,
      "isGpuEnabled": true,
      "isInternetEnabled": false,
      "language": "python",
      "sourceType": "notebook"
    },
    "kernelspec": {
      "display_name": "Python 3 (ipykernel)",
      "language": "python",
      "name": "python3"
    },
    "language_info": {
      "codemirror_mode": {
        "name": "ipython",
        "version": 3
      },
      "file_extension": ".py",
      "mimetype": "text/x-python",
      "name": "python",
      "nbconvert_exporter": "python",
      "pygments_lexer": "ipython3",
      "version": "3.11.5"
    },
    "colab": {
      "provenance": []
    }
  },
  "nbformat": 4,
  "nbformat_minor": 0
}